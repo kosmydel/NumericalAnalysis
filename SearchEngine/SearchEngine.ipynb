{
 "cells": [
  {
   "cell_type": "markdown",
   "metadata": {
    "pycharm": {
     "name": "#%% md\n"
    }
   },
   "source": [
    "# Web crawling & searching - SVD\n",
    "### Author: Jakub Kosmydel\n",
    "\n",
    "### Notes\n",
    "In order to run the search engine with simple GUI you can just go to **Step 6**. All other steps show how the files were prepared (preparation takes a lot of time).\n",
    "\n",
    "\n",
    "### Project structure:\n",
    "- `Frontend` - folder with frontend app written in Angular 2 (needs backend),\n",
    "- `processed_sites`- folder with one example file after processing,\n",
    "- `processed_sites_mini`- folder with one example file after processing,\n",
    "- `wiki` - folder with one example crawled website,\n",
    "- `crawler.py` - program to crawl wikipedia with multiprocessing,\n",
    "- `flask_backend.py` - backend program for Frontend,\n",
    "- `prepare_array.py` - program to create *term-by-document matrix* A,\n",
    "- `process_crawled_files.py` - program to process crawled files (count words etc.),\n",
    "- others: generated example data for frontend and backend.\n",
    "\n",
    "### Step 1: Crawl files from website\n",
    "To crawl websites configure and run file `crawler.py`.\n",
    "\n",
    "**Parameters:**\n",
    "- `N` - number of processes,\n",
    "- `MAX_DEPTH` - maximum BFS depth from START_WEBPAGES topics,\n",
    "- `START_WEBPAGES` - starting wikipedia topics in format: `/wiki/TOPIC`.\n",
    "\n",
    "It works only on Linux because it uses multiprocessing.\n",
    "\n",
    "**Keys used for crawling:**\n",
    "\n",
    "Music, Entertainment, England, World, Astronomy, Physics, Computer_Science, AGH, Economy, History, Religion, Film, Nature, Bee, Animal, Art, Food, Religion, Warfare, Language, Geography, Transport, Television, Philosophy, Video_game"
   ]
  },
  {
   "cell_type": "markdown",
   "metadata": {
    "pycharm": {
     "name": "#%% md\n"
    }
   },
   "source": [
    "### Step 2: Preprocess the files and generate dictionary\n",
    "Take all crawled websites and count words in each page. Save all data in files. Create a dictionary with selected words and save it to json file.\n",
    "\n",
    "**Instruction:**\n",
    "- create folder for websites data e.g. `./processed_sites/`,\n",
    "- run cell below.\n",
    "\n",
    "**Parameters:**\n",
    "- `output` - file to store dictionary JSON,\n",
    "- `processed_output` - folder to store processed sites,\n",
    "- `directory` - input folder with crawled websites,\n",
    "- `cut_top` - amount of top occurring words removed (0-1),\n",
    "- `cut_bottom` - amount of least occurring words removed (0-1),\n",
    "- `min_occurrences` - words with fewer occurrences than that will be removed,\n",
    "- `files_to_process` - limit of websites processed."
   ]
  },
  {
   "cell_type": "code",
   "execution_count": 1,
   "metadata": {
    "pycharm": {
     "name": "#%%\n"
    }
   },
   "outputs": [],
   "source": [
    "from process_crawled_files import process_files"
   ]
  },
  {
   "cell_type": "code",
   "execution_count": null,
   "metadata": {
    "pycharm": {
     "name": "#%%\n"
    }
   },
   "outputs": [],
   "source": [
    "process_files(output=\"main_dictionary.json\",\n",
    "\t\t\t  processed_output=\"./processed_sites/\",\n",
    "\t\t\t  directory=\"./wiki\",\n",
    "\t\t\t  cut_top=0.01,\n",
    "\t\t\t  cut_bottom=0.9,\n",
    "\t\t\t  min_occurrences=2,\n",
    "\t\t\t  files_to_process=25000)\n",
    "\n",
    "process_files(output=\"mini_dictionary.json\",\n",
    "\t\t\t  processed_output=\"./processed_sites_mini/\",\n",
    "\t\t\t  directory=\"./wiki\",\n",
    "\t\t\t  cut_top=0.01,\n",
    "\t\t\t  cut_bottom=0.6,\n",
    "\t\t\t  min_occurrences=2,\n",
    "\t\t\t  files_to_process=5000)"
   ]
  },
  {
   "cell_type": "markdown",
   "metadata": {
    "pycharm": {
     "name": "#%% md\n"
    }
   },
   "source": [
    "### Step 3: Prepare query matrix A\n",
    "Prepare *term-by-document matrix* A and save it to file `output_file`.\n",
    "\n",
    "**Parameters:**\n",
    "- `dictionary` - path to dictionary JSON,\n",
    "- `processed_dir` - path to processed sites' folder,\n",
    "- `output_file` - prefix of files storing *term-by-document matrix* data.\n"
   ]
  },
  {
   "cell_type": "code",
   "execution_count": null,
   "metadata": {
    "pycharm": {
     "name": "#%%\n"
    }
   },
   "outputs": [],
   "source": [
    "from prepare_array import make_array"
   ]
  },
  {
   "cell_type": "code",
   "execution_count": null,
   "metadata": {
    "pycharm": {
     "name": "#%%\n"
    }
   },
   "outputs": [],
   "source": [
    "make_array(\n",
    "\tdictionary=\"main_dictionary.json\",\n",
    "\tprocessed_dir=\"./processed_sites\",\n",
    "\tfiles_prefix=\"./main_data\",\n",
    ")\n",
    "make_array(\n",
    "\tdictionary=\"mini_dictionary.json\",\n",
    "\tprocessed_dir=\"./processed_sites_mini\",\n",
    "\tfiles_prefix=\"./mini_data\",\n",
    ")"
   ]
  },
  {
   "cell_type": "markdown",
   "metadata": {
    "pycharm": {
     "name": "#%% md\n"
    }
   },
   "source": [
    "### Step 4: Query example"
   ]
  },
  {
   "cell_type": "code",
   "execution_count": 1,
   "metadata": {
    "pycharm": {
     "name": "#%%\n"
    }
   },
   "outputs": [],
   "source": [
    "# Configuration and imports\n",
    "from prepare_array import load_data_from_file"
   ]
  },
  {
   "cell_type": "markdown",
   "metadata": {
    "pycharm": {
     "name": "#%% md\n"
    }
   },
   "source": [
    "Load main matrix"
   ]
  },
  {
   "cell_type": "code",
   "execution_count": 3,
   "metadata": {
    "pycharm": {
     "name": "#%%\n"
    }
   },
   "outputs": [
    {
     "name": "stdout",
     "output_type": "stream",
     "text": [
      "Loaded A1 with shape (words, files): (143946, 23857)\n"
     ]
    }
   ],
   "source": [
    "indexes1, A1, file_names1 = load_data_from_file(files_prefix=\"./main_data\")\n",
    "\n",
    "print(f'Loaded A1 with shape (words, files): {A1.shape}')"
   ]
  },
  {
   "cell_type": "markdown",
   "metadata": {
    "pycharm": {
     "name": "#%% md\n"
    }
   },
   "source": [
    "### Step 4: Query the matrix\n",
    "Below you can see some examples of simple queries and results."
   ]
  },
  {
   "cell_type": "code",
   "execution_count": 17,
   "metadata": {
    "pycharm": {
     "name": "#%%\n"
    }
   },
   "outputs": [],
   "source": [
    "from prepare_array import query_data\n",
    "\n",
    "def show_query_result(query, k=10):\n",
    "    print(*query_data(query, indexes1, A1, file_names1, k=k), sep='\\n')"
   ]
  },
  {
   "cell_type": "code",
   "execution_count": 18,
   "metadata": {},
   "outputs": [
    {
     "name": "stdout",
     "output_type": "stream",
     "text": [
      "(0.7071017812219025, 'Timeline_of_quantum_computing.txt')\n",
      "(0.7071017812219025, 'Computer_science_(disambiguation).txt')\n",
      "(0.6549088885413071, 'Music.txt')\n",
      "(0.6478570073966796, 'Computer_music.txt')\n",
      "(0.6356342127287907, 'Pop_music.txt')\n",
      "(0.6290440095080072, 'Music_therapy.txt')\n",
      "(0.6256574498830526, 'Music_teacher.txt')\n",
      "(0.6256574498830526, 'Music_education.txt')\n",
      "(0.6114478668250756, 'Psychology_of_music_preference.txt')\n",
      "(0.6094365491426024, 'Art_music.txt')\n"
     ]
    }
   ],
   "source": [
    "show_query_result(\"computer music\")"
   ]
  },
  {
   "cell_type": "code",
   "execution_count": 19,
   "metadata": {},
   "outputs": [
    {
     "name": "stdout",
     "output_type": "stream",
     "text": [
      "(0.6936864920544559, 'History_(disambiguation).txt')\n",
      "(0.6284483523099351, 'England_(disambiguation).txt')\n",
      "(0.508071434055148, 'Geography_of_England.txt')\n",
      "(0.5025623958793434, 'England.txt')\n",
      "(0.48645912089299137, 'Historiography_of_the_United_Kingdom.txt')\n",
      "(0.4658501215116604, 'Public_history.txt')\n",
      "(0.4648030708066037, 'England_and_Wales.txt')\n",
      "(0.4547131062774891, 'World_history.txt')\n",
      "(0.4499508384638383, 'Social_history.txt')\n",
      "(0.4378030251434301, 'History.txt')\n"
     ]
    }
   ],
   "source": [
    "show_query_result(\"history england\")"
   ]
  },
  {
   "cell_type": "code",
   "execution_count": 20,
   "metadata": {},
   "outputs": [
    {
     "name": "stdout",
     "output_type": "stream",
     "text": [
      "(0.7746653674263343, 'Early_history_of_video_games.txt')\n",
      "(0.7619421562278426, 'PC_game#History.txt')\n",
      "(0.7619421562278426, 'PC_game.txt')\n",
      "(0.7619374674241006, 'Pervasive_game.txt')\n",
      "(0.7071017812219025, 'Timeline_of_quantum_computing.txt')\n",
      "(0.7071017812219025, 'Computer_science_(disambiguation).txt')\n",
      "(0.7068963826422499, 'Video_game.txt')\n",
      "(0.7068963826422499, 'Video_game#Platform.txt')\n",
      "(0.7068963826422499, 'Video_games.txt')\n",
      "(0.6973195457799499, 'Early_mainframe_games.txt')\n"
     ]
    }
   ],
   "source": [
    "show_query_result(\"computer games\")"
   ]
  },
  {
   "cell_type": "code",
   "execution_count": 21,
   "metadata": {},
   "outputs": [
    {
     "name": "stdout",
     "output_type": "stream",
     "text": [
      "Couldn't find word right...\n",
      "(0.6261246772831954, 'Humans.txt')\n",
      "(0.6261246772831954, 'Homo_sapiens.txt')\n",
      "(0.6261246772831954, 'Human.txt')\n",
      "(0.5763495149968239, 'Human_right.txt')\n",
      "(0.5763495149968239, 'Human_rights.txt')\n",
      "(0.5377856358612927, 'World_(disambiguation).txt')\n",
      "(0.5247869464969901, 'Humanities.txt')\n",
      "(0.4841717344201985, 'Human_science.txt')\n",
      "(0.4840415293757371, 'Posthumanism.txt')\n",
      "(0.45877847252754583, 'Transhumanism.txt')\n"
     ]
    }
   ],
   "source": [
    "show_query_result(\"human rights\")"
   ]
  },
  {
   "cell_type": "markdown",
   "metadata": {
    "pycharm": {
     "name": "#%% md\n"
    }
   },
   "source": [
    "### Step 5: SVD & low rank approximation\n",
    "We use smaller matrix (5000 documents) because SVD process takes too long."
   ]
  },
  {
   "cell_type": "code",
   "execution_count": 22,
   "metadata": {
    "pycharm": {
     "name": "#%%\n"
    }
   },
   "outputs": [],
   "source": [
    "# Configuration and imports\n",
    "from prepare_array import load_data_from_file, query_data, svd_process, load_matrix_from_file\n",
    "\n",
    "query = 'computer math'"
   ]
  },
  {
   "cell_type": "markdown",
   "metadata": {},
   "source": [
    "Load main matrix"
   ]
  },
  {
   "cell_type": "code",
   "execution_count": 26,
   "metadata": {
    "pycharm": {
     "name": "#%%\n"
    }
   },
   "outputs": [
    {
     "name": "stdout",
     "output_type": "stream",
     "text": [
      "Loaded A2 with shape (words, files): (47874, 5000)\n"
     ]
    }
   ],
   "source": [
    "indexes2, A2, file_names2 = load_data_from_file(files_prefix=\"./mini_data\")\n",
    "\n",
    "print(f'Loaded A2 with shape (words, files): {A2.shape}')\n",
    "\n",
    "def show_query_svd(query, k):\n",
    "    svd = svd_process(A2, k)\n",
    "    print(*query_data(query, indexes2, svd, file_names2, k=10), sep='\\n')"
   ]
  },
  {
   "cell_type": "markdown",
   "metadata": {},
   "source": [
    "##### Create few decompositions and compare it\n"
   ]
  },
  {
   "cell_type": "markdown",
   "metadata": {
    "pycharm": {
     "name": "#%% md\n"
    }
   },
   "source": [
    "Test usage (without SVD):"
   ]
  },
  {
   "cell_type": "code",
   "execution_count": 27,
   "metadata": {
    "pycharm": {
     "name": "#%%\n"
    }
   },
   "outputs": [
    {
     "name": "stdout",
     "output_type": "stream",
     "text": [
      "(0.7071017812219025, 'Timeline_of_quantum_computing.txt')\n",
      "(0.7071017812219025, 'Computer_science_(disambiguation).txt')\n",
      "(0.6658119436639307, 'Math_(disambiguation).txt')\n",
      "(0.5819658489988704, 'Computer_scientist.txt')\n",
      "(0.5818157229860258, 'Timeline_of_women_in_computing.txt')\n",
      "(0.5785859906754436, 'Computer_science#Etymology.txt')\n",
      "(0.5785859906754436, 'Computer_science.txt')\n",
      "(0.5494509653994207, 'Outline_of_computers.txt')\n",
      "(0.5489625711723451, 'Computing.txt')\n",
      "(0.5421276229328675, 'List_of_computer_scientists.txt')\n"
     ]
    }
   ],
   "source": [
    "show_query_result(query, k=10)"
   ]
  },
  {
   "cell_type": "markdown",
   "metadata": {},
   "source": [
    "SVD with k=50"
   ]
  },
  {
   "cell_type": "code",
   "execution_count": 32,
   "metadata": {},
   "outputs": [
    {
     "name": "stdout",
     "output_type": "stream",
     "text": [
      "(0.604620418889346, 'Computer_science_(disambiguation).txt')\n",
      "(0.5539057795292022, 'Computer_science.txt')\n",
      "(0.5539057795292022, 'Computer_science#Etymology.txt')\n",
      "(0.5398531526076233, 'Computer_scientist.txt')\n",
      "(0.5264561538951327, 'Computing.txt')\n",
      "(0.5023346033946565, 'Computation.txt')\n",
      "(0.46908801149038615, 'Computer.txt')\n",
      "(0.46908801149038615, 'Computers.txt')\n",
      "(0.46908801149038615, 'Computer_system.txt')\n",
      "(0.46690974991696366, 'Computational_sciences.txt')\n"
     ]
    }
   ],
   "source": [
    "show_query_svd(query, 50)"
   ]
  },
  {
   "cell_type": "markdown",
   "metadata": {
    "pycharm": {
     "name": "#%% md\n"
    }
   },
   "source": [
    "SVD with k=100"
   ]
  },
  {
   "cell_type": "code",
   "execution_count": 28,
   "metadata": {
    "pycharm": {
     "name": "#%%\n"
    }
   },
   "outputs": [
    {
     "name": "stdout",
     "output_type": "stream",
     "text": [
      "(0.6471110287827495, 'Computer_science_(disambiguation).txt')\n",
      "(0.5722856309560436, 'Computer_science#Etymology.txt')\n",
      "(0.5722856309560436, 'Computer_science.txt')\n",
      "(0.560010123434473, 'Computer_scientist.txt')\n",
      "(0.5414630677377815, 'Computing.txt')\n",
      "(0.529994417522484, 'Computation.txt')\n",
      "(0.4847540489304169, 'Category_Computational_fields_of_study.txt')\n",
      "(0.47943347003486064, 'Computational_science.txt')\n",
      "(0.47943347003486064, 'Computational_sciences.txt')\n",
      "(0.478784306808708, 'Computer_systems_in_the_Soviet_Union.txt')\n"
     ]
    }
   ],
   "source": [
    "show_query_svd(query, 100)"
   ]
  },
  {
   "cell_type": "markdown",
   "metadata": {},
   "source": [
    "SVD with k=500"
   ]
  },
  {
   "cell_type": "code",
   "execution_count": 33,
   "metadata": {
    "pycharm": {
     "name": "#%%\n"
    }
   },
   "outputs": [
    {
     "name": "stdout",
     "output_type": "stream",
     "text": [
      "(0.6739257187774786, 'Computer_science_(disambiguation).txt')\n",
      "(0.5774338381362327, 'Computer_science#Etymology.txt')\n",
      "(0.5774338381362327, 'Computer_science.txt')\n",
      "(0.5724716518978032, 'Computer_scientist.txt')\n",
      "(0.5466946464005711, 'Computation.txt')\n",
      "(0.5457527952708293, 'Computing.txt')\n",
      "(0.5046895346827494, 'Category_Computational_fields_of_study.txt')\n",
      "(0.4952069530911398, 'Computational_science.txt')\n",
      "(0.4952069530911398, 'Computational_sciences.txt')\n",
      "(0.4907041362937805, 'Computer_systems_in_the_Soviet_Union.txt')\n"
     ]
    }
   ],
   "source": [
    "show_query_svd(query, 500)"
   ]
  },
  {
   "cell_type": "markdown",
   "metadata": {},
   "source": [
    "SVD with k=750"
   ]
  },
  {
   "cell_type": "code",
   "execution_count": 34,
   "metadata": {
    "pycharm": {
     "name": "#%%\n"
    }
   },
   "outputs": [
    {
     "name": "stdout",
     "output_type": "stream",
     "text": [
      "(0.6775611369731431, 'Computer_science_(disambiguation).txt')\n",
      "(0.5782303352267857, 'Computer_science.txt')\n",
      "(0.5782303352267857, 'Computer_science#Etymology.txt')\n",
      "(0.5732816780218529, 'Computer_scientist.txt')\n",
      "(0.5498096861855345, 'Computation.txt')\n",
      "(0.5450574533035004, 'Computing.txt')\n",
      "(0.5054417742312839, 'Category_Computational_fields_of_study.txt')\n",
      "(0.49453287963635617, 'Computational_science.txt')\n",
      "(0.49453287963635617, 'Computational_sciences.txt')\n",
      "(0.4924865169742302, 'Computer_systems_in_the_Soviet_Union.txt')\n"
     ]
    }
   ],
   "source": [
    "show_query_svd(query, 750)"
   ]
  },
  {
   "cell_type": "markdown",
   "metadata": {},
   "source": [
    "SVD with k=1000"
   ]
  },
  {
   "cell_type": "code",
   "execution_count": 35,
   "metadata": {
    "pycharm": {
     "name": "#%%\n"
    }
   },
   "outputs": [
    {
     "name": "stdout",
     "output_type": "stream",
     "text": [
      "(0.6797698009717407, 'Computer_science_(disambiguation).txt')\n",
      "(0.5788087112456581, 'Computer_science#Etymology.txt')\n",
      "(0.5788087112456581, 'Computer_science.txt')\n",
      "(0.5739177639034301, 'Computer_scientist.txt')\n",
      "(0.5517056757514787, 'Computation.txt')\n",
      "(0.5457514582514786, 'Computing.txt')\n",
      "(0.5052458468596034, 'Category_Computational_fields_of_study.txt')\n",
      "(0.49382682067250755, 'Computer_systems_in_the_Soviet_Union.txt')\n",
      "(0.49137556926037285, 'Computational_science.txt')\n",
      "(0.49137556926037285, 'Computational_sciences.txt')\n"
     ]
    }
   ],
   "source": [
    "show_query_svd(query, 1000)"
   ]
  },
  {
   "cell_type": "markdown",
   "metadata": {
    "pycharm": {
     "name": "#%% md\n"
    }
   },
   "source": [
    "#### Conclusion\n",
    "The best results for 5000 files were with `k = 50`. Unfortunately, I couldn't run program for k higher than 1000 because of lack of memory."
   ]
  },
  {
   "attachments": {
    "image.png": {
     "image/png": "[encoded data removed]"
    }
   },
   "cell_type": "markdown",
   "metadata": {
    "pycharm": {
     "name": "#%% md\n"
    }
   },
   "source": [
    "### Step 6: Webpage\n",
    "#### Backend\n",
    "In order to run backend server type in terminal `export FLASK_APP=flask_backend` and then `flask run` and make sure it is running.\n",
    "#### Frontend\n",
    "To build and run frontend webpage go to `Frontend` folder and type `npm install` and `ng serve` in terminal. Make sure that you have Angular2, NodeJS and npm installed.\n",
    "Frontend requires backend to be running.\n",
    "\n",
    "![image.png](attachment:image.png)\n",
    "\n",
    "#### Statistics:\n",
    "Typical query for ~25000 files takes around `0.05s`."
   ]
  },
  {
   "cell_type": "code",
   "execution_count": null,
   "metadata": {},
   "outputs": [],
   "source": []
  }
 ],
 "metadata": {
  "kernelspec": {
   "display_name": "Python 3 (ipykernel)",
   "language": "python",
   "name": "python3"
  },
  "language_info": {
   "codemirror_mode": {
    "name": "ipython",
    "version": 3
   },
   "file_extension": ".py",
   "mimetype": "text/x-python",
   "name": "python",
   "nbconvert_exporter": "python",
   "pygments_lexer": "ipython3",
   "version": "3.7.8"
  }
 },
 "nbformat": 4,
 "nbformat_minor": 1
}